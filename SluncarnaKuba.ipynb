{
 "cells": [
  {
   "cell_type": "markdown",
   "metadata": {},
   "source": [
    "# Ahoj\n",
    "\n",
    "Použijme Pandas - knihovnu na zpracovávání tabulkových dat, [dokumentace tady](http://pandas.pydata.org/pandas-docs/version/0.18.1/) - k otevření dat z počítače ve sluncárně."
   ]
  },
  {
   "cell_type": "code",
   "execution_count": 135,
   "metadata": {
    "collapsed": false
   },
   "outputs": [],
   "source": [
    "import pandas as pd\n",
    "import numpy as np\n",
    "import datetime\n",
    "log = pd.read_csv(\"http://radio-slunce.local/all.csv\",\n",
    "                  parse_dates=True, date_parser=lambda ts: datetime.datetime.fromtimestamp(float(ts)),\n",
    "                  index_col=0, header=None,\n",
    "                  delim_whitespace=True, names=['SigLevel'])"
   ]
  },
  {
   "cell_type": "markdown",
   "metadata": {},
   "source": [
    "A vykresleme je!"
   ]
  },
  {
   "cell_type": "code",
   "execution_count": 136,
   "metadata": {
    "collapsed": false,
    "scrolled": true
   },
   "outputs": [
    {
     "data": {
      "text/plain": [
       "<matplotlib.axes._subplots.AxesSubplot at 0xa4c22a4c>"
      ]
     },
     "execution_count": 136,
     "metadata": {},
     "output_type": "execute_result"
    },
    {
     "data": {
      "image/png": "[encoded data removed]",
      "text/plain": [
       "<matplotlib.figure.Figure at 0xa9afe0cc>"
      ]
     },
     "metadata": {},
     "output_type": "display_data"
    }
   ],
   "source": [
    "%matplotlib inline\n",
    "log.plot()"
   ]
  },
  {
   "cell_type": "code",
   "execution_count": 1,
   "metadata": {
    "collapsed": false
   },
   "outputs": [
    {
     "ename": "NameError",
     "evalue": "name 'log' is not defined",
     "output_type": "error",
     "traceback": [
      "\u001b[1;31m---------------------------------------------------------------------------\u001b[0m",
      "\u001b[1;31mNameError\u001b[0m                                 Traceback (most recent call last)",
      "\u001b[1;32m<ipython-input-1-0ee567fc6fb4>\u001b[0m in \u001b[0;36m<module>\u001b[1;34m()\u001b[0m\n\u001b[1;32m----> 1\u001b[1;33m \u001b[0mtype\u001b[0m\u001b[1;33m(\u001b[0m\u001b[0mlog\u001b[0m\u001b[1;33m)\u001b[0m\u001b[1;33m\u001b[0m\u001b[0m\n\u001b[0m",
      "\u001b[1;31mNameError\u001b[0m: name 'log' is not defined"
     ]
    }
   ],
   "source": [
    "type(log)"
   ]
  },
  {
   "cell_type": "code",
   "execution_count": 137,
   "metadata": {
    "collapsed": false
   },
   "outputs": [
    {
     "data": {
      "text/html": [
       "<div>\n",
       "<table border=\"1\" class=\"dataframe\">\n",
       "  <thead>\n",
       "    <tr style=\"text-align: right;\">\n",
       "      <th></th>\n",
       "      <th>SigLevel</th>\n",
       "    </tr>\n",
       "  </thead>\n",
       "  <tbody>\n",
       "    <tr>\n",
       "      <th>2015-08-19 17:35:53.390</th>\n",
       "      <td>-12.007863</td>\n",
       "    </tr>\n",
       "    <tr>\n",
       "      <th>2015-08-19 17:38:07.760</th>\n",
       "      <td>-12.006884</td>\n",
       "    </tr>\n",
       "    <tr>\n",
       "      <th>2015-08-19 17:40:22.140</th>\n",
       "      <td>-12.002869</td>\n",
       "    </tr>\n",
       "    <tr>\n",
       "      <th>2015-08-19 17:42:36.510</th>\n",
       "      <td>-12.000285</td>\n",
       "    </tr>\n",
       "    <tr>\n",
       "      <th>2015-08-19 17:44:50.890</th>\n",
       "      <td>-12.001890</td>\n",
       "    </tr>\n",
       "    <tr>\n",
       "      <th>2015-08-19 17:47:05.390</th>\n",
       "      <td>-12.007481</td>\n",
       "    </tr>\n",
       "    <tr>\n",
       "      <th>2015-08-19 17:49:19.760</th>\n",
       "      <td>-12.006593</td>\n",
       "    </tr>\n",
       "    <tr>\n",
       "      <th>2015-08-19 17:51:34.140</th>\n",
       "      <td>-12.006522</td>\n",
       "    </tr>\n",
       "    <tr>\n",
       "      <th>2015-08-19 17:53:48.510</th>\n",
       "      <td>-12.008027</td>\n",
       "    </tr>\n",
       "    <tr>\n",
       "      <th>2015-08-19 17:56:02.890</th>\n",
       "      <td>-12.004855</td>\n",
       "    </tr>\n",
       "    <tr>\n",
       "      <th>2015-08-19 17:58:17.390</th>\n",
       "      <td>-12.011170</td>\n",
       "    </tr>\n",
       "    <tr>\n",
       "      <th>2015-08-19 18:00:31.760</th>\n",
       "      <td>-12.009473</td>\n",
       "    </tr>\n",
       "    <tr>\n",
       "      <th>2015-08-19 18:02:46.140</th>\n",
       "      <td>-12.009619</td>\n",
       "    </tr>\n",
       "    <tr>\n",
       "      <th>2015-08-19 18:05:00.510</th>\n",
       "      <td>-12.007837</td>\n",
       "    </tr>\n",
       "    <tr>\n",
       "      <th>2015-08-19 18:07:14.890</th>\n",
       "      <td>-12.009206</td>\n",
       "    </tr>\n",
       "    <tr>\n",
       "      <th>2015-08-19 18:09:29.390</th>\n",
       "      <td>-12.011169</td>\n",
       "    </tr>\n",
       "    <tr>\n",
       "      <th>2015-08-19 18:11:43.760</th>\n",
       "      <td>-12.008692</td>\n",
       "    </tr>\n",
       "    <tr>\n",
       "      <th>2015-08-19 18:13:58.140</th>\n",
       "      <td>-12.007495</td>\n",
       "    </tr>\n",
       "    <tr>\n",
       "      <th>2015-08-19 18:16:12.510</th>\n",
       "      <td>-12.010168</td>\n",
       "    </tr>\n",
       "    <tr>\n",
       "      <th>2015-08-19 18:18:26.890</th>\n",
       "      <td>-12.004189</td>\n",
       "    </tr>\n",
       "    <tr>\n",
       "      <th>2015-08-19 18:20:41.390</th>\n",
       "      <td>-12.006321</td>\n",
       "    </tr>\n",
       "    <tr>\n",
       "      <th>2015-08-19 18:22:55.760</th>\n",
       "      <td>-12.006645</td>\n",
       "    </tr>\n",
       "    <tr>\n",
       "      <th>2015-08-19 18:25:10.140</th>\n",
       "      <td>-11.996785</td>\n",
       "    </tr>\n",
       "    <tr>\n",
       "      <th>2015-08-19 18:27:24.510</th>\n",
       "      <td>-11.996511</td>\n",
       "    </tr>\n",
       "    <tr>\n",
       "      <th>2015-08-19 18:29:38.890</th>\n",
       "      <td>-11.995121</td>\n",
       "    </tr>\n",
       "    <tr>\n",
       "      <th>2015-08-19 18:31:53.390</th>\n",
       "      <td>-11.998647</td>\n",
       "    </tr>\n",
       "    <tr>\n",
       "      <th>2015-08-19 18:34:07.760</th>\n",
       "      <td>-11.993179</td>\n",
       "    </tr>\n",
       "    <tr>\n",
       "      <th>2015-08-19 18:36:22.140</th>\n",
       "      <td>-11.997225</td>\n",
       "    </tr>\n",
       "    <tr>\n",
       "      <th>2015-08-19 18:38:36.510</th>\n",
       "      <td>-11.999101</td>\n",
       "    </tr>\n",
       "    <tr>\n",
       "      <th>2015-08-19 18:40:50.890</th>\n",
       "      <td>-11.998509</td>\n",
       "    </tr>\n",
       "    <tr>\n",
       "      <th>...</th>\n",
       "      <td>...</td>\n",
       "    </tr>\n",
       "    <tr>\n",
       "      <th>2016-07-29 16:34:39.160</th>\n",
       "      <td>-13.348331</td>\n",
       "    </tr>\n",
       "    <tr>\n",
       "      <th>2016-07-29 16:36:53.540</th>\n",
       "      <td>-13.346865</td>\n",
       "    </tr>\n",
       "    <tr>\n",
       "      <th>2016-07-29 16:39:08.030</th>\n",
       "      <td>-13.356770</td>\n",
       "    </tr>\n",
       "    <tr>\n",
       "      <th>2016-07-29 16:41:22.410</th>\n",
       "      <td>-13.416163</td>\n",
       "    </tr>\n",
       "    <tr>\n",
       "      <th>2016-07-29 16:43:36.780</th>\n",
       "      <td>-13.355583</td>\n",
       "    </tr>\n",
       "    <tr>\n",
       "      <th>2016-07-29 16:45:51.160</th>\n",
       "      <td>-13.339404</td>\n",
       "    </tr>\n",
       "    <tr>\n",
       "      <th>2016-07-29 16:48:05.540</th>\n",
       "      <td>-13.401038</td>\n",
       "    </tr>\n",
       "    <tr>\n",
       "      <th>2016-07-29 16:50:20.030</th>\n",
       "      <td>-13.343192</td>\n",
       "    </tr>\n",
       "    <tr>\n",
       "      <th>2016-07-29 16:52:34.410</th>\n",
       "      <td>-13.357228</td>\n",
       "    </tr>\n",
       "    <tr>\n",
       "      <th>2016-07-29 16:54:48.780</th>\n",
       "      <td>-13.382626</td>\n",
       "    </tr>\n",
       "    <tr>\n",
       "      <th>2016-07-29 16:57:03.160</th>\n",
       "      <td>-13.354693</td>\n",
       "    </tr>\n",
       "    <tr>\n",
       "      <th>2016-07-29 16:59:17.540</th>\n",
       "      <td>-13.420075</td>\n",
       "    </tr>\n",
       "    <tr>\n",
       "      <th>2016-07-29 17:01:32.030</th>\n",
       "      <td>-13.351429</td>\n",
       "    </tr>\n",
       "    <tr>\n",
       "      <th>2016-07-29 17:03:46.410</th>\n",
       "      <td>-13.362268</td>\n",
       "    </tr>\n",
       "    <tr>\n",
       "      <th>2016-07-29 17:06:00.780</th>\n",
       "      <td>-13.411624</td>\n",
       "    </tr>\n",
       "    <tr>\n",
       "      <th>2016-07-29 17:08:15.160</th>\n",
       "      <td>-13.381450</td>\n",
       "    </tr>\n",
       "    <tr>\n",
       "      <th>2016-07-29 17:10:29.540</th>\n",
       "      <td>-13.415598</td>\n",
       "    </tr>\n",
       "    <tr>\n",
       "      <th>2016-07-29 17:12:44.030</th>\n",
       "      <td>-13.386671</td>\n",
       "    </tr>\n",
       "    <tr>\n",
       "      <th>2016-07-29 17:14:58.410</th>\n",
       "      <td>-13.357039</td>\n",
       "    </tr>\n",
       "    <tr>\n",
       "      <th>2016-07-29 17:17:12.780</th>\n",
       "      <td>-13.420845</td>\n",
       "    </tr>\n",
       "    <tr>\n",
       "      <th>2016-07-29 17:19:27.160</th>\n",
       "      <td>-13.370764</td>\n",
       "    </tr>\n",
       "    <tr>\n",
       "      <th>2016-07-29 17:21:41.540</th>\n",
       "      <td>-13.419144</td>\n",
       "    </tr>\n",
       "    <tr>\n",
       "      <th>2016-07-29 17:23:56.030</th>\n",
       "      <td>-13.433235</td>\n",
       "    </tr>\n",
       "    <tr>\n",
       "      <th>2016-07-29 17:26:10.410</th>\n",
       "      <td>-13.381830</td>\n",
       "    </tr>\n",
       "    <tr>\n",
       "      <th>2016-07-29 17:28:24.780</th>\n",
       "      <td>-13.435297</td>\n",
       "    </tr>\n",
       "    <tr>\n",
       "      <th>2016-07-29 17:30:39.160</th>\n",
       "      <td>-13.419149</td>\n",
       "    </tr>\n",
       "    <tr>\n",
       "      <th>2016-07-29 17:32:53.540</th>\n",
       "      <td>-13.389149</td>\n",
       "    </tr>\n",
       "    <tr>\n",
       "      <th>2016-07-29 17:35:08.030</th>\n",
       "      <td>-13.431626</td>\n",
       "    </tr>\n",
       "    <tr>\n",
       "      <th>2016-07-29 17:37:22.410</th>\n",
       "      <td>-13.395998</td>\n",
       "    </tr>\n",
       "    <tr>\n",
       "      <th>2016-07-29 17:39:36.780</th>\n",
       "      <td>-13.399569</td>\n",
       "    </tr>\n",
       "  </tbody>\n",
       "</table>\n",
       "<p>189972 rows × 1 columns</p>\n",
       "</div>"
      ],
      "text/plain": [
       "                          SigLevel\n",
       "2015-08-19 17:35:53.390 -12.007863\n",
       "2015-08-19 17:38:07.760 -12.006884\n",
       "2015-08-19 17:40:22.140 -12.002869\n",
       "2015-08-19 17:42:36.510 -12.000285\n",
       "2015-08-19 17:44:50.890 -12.001890\n",
       "2015-08-19 17:47:05.390 -12.007481\n",
       "2015-08-19 17:49:19.760 -12.006593\n",
       "2015-08-19 17:51:34.140 -12.006522\n",
       "2015-08-19 17:53:48.510 -12.008027\n",
       "2015-08-19 17:56:02.890 -12.004855\n",
       "2015-08-19 17:58:17.390 -12.011170\n",
       "2015-08-19 18:00:31.760 -12.009473\n",
       "2015-08-19 18:02:46.140 -12.009619\n",
       "2015-08-19 18:05:00.510 -12.007837\n",
       "2015-08-19 18:07:14.890 -12.009206\n",
       "2015-08-19 18:09:29.390 -12.011169\n",
       "2015-08-19 18:11:43.760 -12.008692\n",
       "2015-08-19 18:13:58.140 -12.007495\n",
       "2015-08-19 18:16:12.510 -12.010168\n",
       "2015-08-19 18:18:26.890 -12.004189\n",
       "2015-08-19 18:20:41.390 -12.006321\n",
       "2015-08-19 18:22:55.760 -12.006645\n",
       "2015-08-19 18:25:10.140 -11.996785\n",
       "2015-08-19 18:27:24.510 -11.996511\n",
       "2015-08-19 18:29:38.890 -11.995121\n",
       "2015-08-19 18:31:53.390 -11.998647\n",
       "2015-08-19 18:34:07.760 -11.993179\n",
       "2015-08-19 18:36:22.140 -11.997225\n",
       "2015-08-19 18:38:36.510 -11.999101\n",
       "2015-08-19 18:40:50.890 -11.998509\n",
       "...                            ...\n",
       "2016-07-29 16:34:39.160 -13.348331\n",
       "2016-07-29 16:36:53.540 -13.346865\n",
       "2016-07-29 16:39:08.030 -13.356770\n",
       "2016-07-29 16:41:22.410 -13.416163\n",
       "2016-07-29 16:43:36.780 -13.355583\n",
       "2016-07-29 16:45:51.160 -13.339404\n",
       "2016-07-29 16:48:05.540 -13.401038\n",
       "2016-07-29 16:50:20.030 -13.343192\n",
       "2016-07-29 16:52:34.410 -13.357228\n",
       "2016-07-29 16:54:48.780 -13.382626\n",
       "2016-07-29 16:57:03.160 -13.354693\n",
       "2016-07-29 16:59:17.540 -13.420075\n",
       "2016-07-29 17:01:32.030 -13.351429\n",
       "2016-07-29 17:03:46.410 -13.362268\n",
       "2016-07-29 17:06:00.780 -13.411624\n",
       "2016-07-29 17:08:15.160 -13.381450\n",
       "2016-07-29 17:10:29.540 -13.415598\n",
       "2016-07-29 17:12:44.030 -13.386671\n",
       "2016-07-29 17:14:58.410 -13.357039\n",
       "2016-07-29 17:17:12.780 -13.420845\n",
       "2016-07-29 17:19:27.160 -13.370764\n",
       "2016-07-29 17:21:41.540 -13.419144\n",
       "2016-07-29 17:23:56.030 -13.433235\n",
       "2016-07-29 17:26:10.410 -13.381830\n",
       "2016-07-29 17:28:24.780 -13.435297\n",
       "2016-07-29 17:30:39.160 -13.419149\n",
       "2016-07-29 17:32:53.540 -13.389149\n",
       "2016-07-29 17:35:08.030 -13.431626\n",
       "2016-07-29 17:37:22.410 -13.395998\n",
       "2016-07-29 17:39:36.780 -13.399569\n",
       "\n",
       "[189972 rows x 1 columns]"
      ]
     },
     "execution_count": 137,
     "metadata": {},
     "output_type": "execute_result"
    }
   ],
   "source": [
    "log"
   ]
  },
  {
   "cell_type": "code",
   "execution_count": 138,
   "metadata": {
    "collapsed": false
   },
   "outputs": [
    {
     "data": {
      "text/plain": [
       "DatetimeIndex(['2015-08-19 17:35:53.390000', '2015-08-19 17:38:07.760000',\n",
       "               '2015-08-19 17:40:22.140000', '2015-08-19 17:42:36.510000',\n",
       "               '2015-08-19 17:44:50.890000', '2015-08-19 17:47:05.390000',\n",
       "               '2015-08-19 17:49:19.760000', '2015-08-19 17:51:34.140000',\n",
       "               '2015-08-19 17:53:48.510000', '2015-08-19 17:56:02.890000',\n",
       "               ...\n",
       "               '2016-07-29 17:19:27.160000', '2016-07-29 17:21:41.540000',\n",
       "               '2016-07-29 17:23:56.030000', '2016-07-29 17:26:10.410000',\n",
       "               '2016-07-29 17:28:24.780000', '2016-07-29 17:30:39.160000',\n",
       "               '2016-07-29 17:32:53.540000', '2016-07-29 17:35:08.030000',\n",
       "               '2016-07-29 17:37:22.410000', '2016-07-29 17:39:36.780000'],\n",
       "              dtype='datetime64[ns]', length=189972, freq=None)"
      ]
     },
     "execution_count": 138,
     "metadata": {},
     "output_type": "execute_result"
    }
   ],
   "source": [
    "log.index\n"
   ]
  },
  {
   "cell_type": "code",
   "execution_count": 139,
   "metadata": {
    "collapsed": false
   },
   "outputs": [
    {
     "data": {
      "text/plain": [
       "array([datetime.date(2015, 8, 19), datetime.date(2015, 8, 19),\n",
       "       datetime.date(2015, 8, 19), ..., datetime.date(2016, 7, 29),\n",
       "       datetime.date(2016, 7, 29), datetime.date(2016, 7, 29)], dtype=object)"
      ]
     },
     "execution_count": 139,
     "metadata": {},
     "output_type": "execute_result"
    }
   ],
   "source": [
    "log.index.date"
   ]
  },
  {
   "cell_type": "code",
   "execution_count": 140,
   "metadata": {
    "collapsed": false
   },
   "outputs": [
    {
     "data": {
      "text/plain": [
       "False"
      ]
     },
     "execution_count": 140,
     "metadata": {},
     "output_type": "execute_result"
    }
   ],
   "source": [
    "rng = pd.date_range('1/1/2011', periods=72, freq='D')\n",
    "dt = datetime.datetime.combine(rng[1], datetime.time(12, 30))\n",
    "test = rng[1]> dt\n",
    "test"
   ]
  },
  {
   "cell_type": "code",
   "execution_count": 141,
   "metadata": {
    "collapsed": false
   },
   "outputs": [
    {
     "data": {
      "text/plain": [
       "DatetimeIndex(['2015-08-19', '2015-08-20', '2015-08-21', '2015-08-22',\n",
       "               '2015-08-23', '2015-08-24', '2015-08-25', '2015-08-26',\n",
       "               '2015-08-27', '2015-08-28',\n",
       "               ...\n",
       "               '2016-07-20', '2016-07-21', '2016-07-22', '2016-07-23',\n",
       "               '2016-07-24', '2016-07-25', '2016-07-26', '2016-07-27',\n",
       "               '2016-07-28', '2016-07-29'],\n",
       "              dtype='datetime64[ns]', length=346, freq='D')"
      ]
     },
     "execution_count": 141,
     "metadata": {},
     "output_type": "execute_result"
    }
   ],
   "source": [
    "mn = log.index.min()\n",
    "mx = log.index.max()\n",
    "mx_1 = log.index.max() + datetime.timedelta(days=1)\n",
    "dates = pd.date_range(start=mn.date(), end=mx.date())\n",
    "dates\n"
   ]
  },
  {
   "cell_type": "code",
   "execution_count": 142,
   "metadata": {
    "collapsed": false
   },
   "outputs": [
    {
     "data": {
      "text/plain": [
       "56153.390000104904"
      ]
     },
     "execution_count": 142,
     "metadata": {},
     "output_type": "execute_result"
    }
   ],
   "source": [
    "log.index[0].timestamp()%86400"
   ]
  },
  {
   "cell_type": "code",
   "execution_count": 143,
   "metadata": {
    "collapsed": false
   },
   "outputs": [],
   "source": [
    "synodic_period = pd.DataFrame()\n",
    "lst = [y for y in range(0, 189437) if log.index[y].date() == log.index[0].date()]\n",
    "synodic_period[\"1\"] = log.index[lst]\n"
   ]
  },
  {
   "cell_type": "code",
   "execution_count": 144,
   "metadata": {
    "collapsed": false
   },
   "outputs": [
    {
     "data": {
      "text/plain": [
       "<matplotlib.axes._subplots.AxesSubplot at 0xa788f10c>"
      ]
     },
     "execution_count": 144,
     "metadata": {},
     "output_type": "execute_result"
    },
    {
     "data": {
      "image/png": "[encoded data removed]",
      "text/plain": [
       "<matplotlib.figure.Figure at 0xa9b8afcc>"
      ]
     },
     "metadata": {},
     "output_type": "display_data"
    }
   ],
   "source": [
    "indx_syn = [((x // 10**9) %(3600*24)) for x in((log.index).astype(np.int64))]\n",
    "log_abs = log[\"SigLevel\"].abs()\n",
    "val = log_abs.values\n",
    "syn_p = pd.DataFrame({\"sig\":val}, index=indx_syn)\n",
    "syn_p.sort_index(inplace=True)\n",
    "syn_p.plot()\n",
    "#syn_p[] = log.reindex(indx);syn_p"
   ]
  },
  {
   "cell_type": "code",
   "execution_count": 145,
   "metadata": {
    "collapsed": false
   },
   "outputs": [
    {
     "data": {
      "text/plain": [
       "<matplotlib.axes._subplots.AxesSubplot at 0xad6ceecc>"
      ]
     },
     "execution_count": 145,
     "metadata": {},
     "output_type": "execute_result"
    },
    {
     "data": {
      "image/png": "[encoded data removed]",
      "text/plain": [
       "<matplotlib.figure.Figure at 0xa5af63cc>"
      ]
     },
     "metadata": {},
     "output_type": "display_data"
    }
   ],
   "source": [
    "indx_sid = [((x // 10**9) %(23*3600+56*60+4)) for x in(pd.DatetimeIndex(log.index)).astype(np.int64)]\n",
    "sid_p = pd.DataFrame({\"sig\":val}, index=indx_sid)\n",
    "sid_p.sort_index(inplace=True)\n",
    "sid_p.plot()"
   ]
  },
  {
   "cell_type": "code",
   "execution_count": null,
   "metadata": {
    "collapsed": true
   },
   "outputs": [],
   "source": []
  },
  {
   "cell_type": "code",
   "execution_count": null,
   "metadata": {
    "collapsed": true
   },
   "outputs": [],
   "source": []
  },
  {
   "cell_type": "code",
   "execution_count": null,
   "metadata": {
    "collapsed": true
   },
   "outputs": [],
   "source": []
  }
 ],
 "metadata": {
  "anaconda-cloud": {},
  "kernelspec": {
   "display_name": "Python [Root]",
   "language": "python",
   "name": "Python [Root]"
  },
  "language_info": {
   "codemirror_mode": {
    "name": "ipython",
    "version": 3
   },
   "file_extension": ".py",
   "mimetype": "text/x-python",
   "name": "python",
   "nbconvert_exporter": "python",
   "pygments_lexer": "ipython3",
   "version": "3.5.2"
  }
 },
 "nbformat": 4,
 "nbformat_minor": 0
}
